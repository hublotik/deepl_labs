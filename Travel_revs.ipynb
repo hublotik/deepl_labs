{
 "cells": [
  {
   "cell_type": "markdown",
   "metadata": {},
   "source": [
    "## Individual household electric power consumption\n",
    "#### https://archive.ics.uci.edu/dataset/484/travel+reviews"
   ]
  },
  {
   "cell_type": "markdown",
   "metadata": {},
   "source": [
    "#Additional Variable Information\n",
    "Atributes represent average user feedback\n"
   ]
  },
  {
   "cell_type": "code",
   "execution_count": 285,
   "metadata": {},
   "outputs": [
    {
     "name": "stdout",
     "output_type": "stream",
     "text": [
      "\n"
     ]
    }
   ],
   "source": [
    "import pandas as pd \n",
    "import numpy as np\n",
    "from pathlib import Path\n",
    "print()\n",
    "Travel_Reviews = pd.read_csv(f'{Path.cwd()}/tripadvisor_review.csv'\n",
    "            , delimiter=',')\n"
   ]
  },
  {
   "cell_type": "markdown",
   "metadata": {},
   "source": [
    "### This data set is populated by crawling TripAdvisor.com. Reviews on destinations in 10 categories mentioned across East Asia are considered. Each traveler rating is mapped as Excellent (4), Very Good (3), Average (2), Poor (1), and Terrible (0) and average rating is used against each category per user."
   ]
  },
  {
   "cell_type": "code",
   "execution_count": 286,
   "metadata": {},
   "outputs": [
    {
     "data": {
      "text/html": [
       "<div>\n",
       "<style scoped>\n",
       "    .dataframe tbody tr th:only-of-type {\n",
       "        vertical-align: middle;\n",
       "    }\n",
       "\n",
       "    .dataframe tbody tr th {\n",
       "        vertical-align: top;\n",
       "    }\n",
       "\n",
       "    .dataframe thead th {\n",
       "        text-align: right;\n",
       "    }\n",
       "</style>\n",
       "<table border=\"1\" class=\"dataframe\">\n",
       "  <thead>\n",
       "    <tr style=\"text-align: right;\">\n",
       "      <th></th>\n",
       "      <th>User ID</th>\n",
       "      <th>art_galleries</th>\n",
       "      <th>dance_clubs</th>\n",
       "      <th>juice_bars</th>\n",
       "      <th>restaurants</th>\n",
       "      <th>museums</th>\n",
       "      <th>resorts</th>\n",
       "      <th>parks_spots</th>\n",
       "      <th>beaches</th>\n",
       "      <th>theaters</th>\n",
       "      <th>religious_institutions</th>\n",
       "    </tr>\n",
       "  </thead>\n",
       "  <tbody>\n",
       "    <tr>\n",
       "      <th>0</th>\n",
       "      <td>User 1</td>\n",
       "      <td>0.93</td>\n",
       "      <td>1.80</td>\n",
       "      <td>2.29</td>\n",
       "      <td>0.62</td>\n",
       "      <td>0.80</td>\n",
       "      <td>2.42</td>\n",
       "      <td>3.19</td>\n",
       "      <td>2.79</td>\n",
       "      <td>1.82</td>\n",
       "      <td>2.42</td>\n",
       "    </tr>\n",
       "    <tr>\n",
       "      <th>1</th>\n",
       "      <td>User 2</td>\n",
       "      <td>1.02</td>\n",
       "      <td>2.20</td>\n",
       "      <td>2.66</td>\n",
       "      <td>0.64</td>\n",
       "      <td>1.42</td>\n",
       "      <td>3.18</td>\n",
       "      <td>3.21</td>\n",
       "      <td>2.63</td>\n",
       "      <td>1.86</td>\n",
       "      <td>2.32</td>\n",
       "    </tr>\n",
       "    <tr>\n",
       "      <th>2</th>\n",
       "      <td>User 3</td>\n",
       "      <td>1.22</td>\n",
       "      <td>0.80</td>\n",
       "      <td>0.54</td>\n",
       "      <td>0.53</td>\n",
       "      <td>0.24</td>\n",
       "      <td>1.54</td>\n",
       "      <td>3.18</td>\n",
       "      <td>2.80</td>\n",
       "      <td>1.31</td>\n",
       "      <td>2.50</td>\n",
       "    </tr>\n",
       "    <tr>\n",
       "      <th>3</th>\n",
       "      <td>User 4</td>\n",
       "      <td>0.45</td>\n",
       "      <td>1.80</td>\n",
       "      <td>0.29</td>\n",
       "      <td>0.57</td>\n",
       "      <td>0.46</td>\n",
       "      <td>1.52</td>\n",
       "      <td>3.18</td>\n",
       "      <td>2.96</td>\n",
       "      <td>1.57</td>\n",
       "      <td>2.86</td>\n",
       "    </tr>\n",
       "    <tr>\n",
       "      <th>4</th>\n",
       "      <td>User 5</td>\n",
       "      <td>0.51</td>\n",
       "      <td>1.20</td>\n",
       "      <td>1.18</td>\n",
       "      <td>0.57</td>\n",
       "      <td>1.54</td>\n",
       "      <td>2.02</td>\n",
       "      <td>3.18</td>\n",
       "      <td>2.78</td>\n",
       "      <td>1.18</td>\n",
       "      <td>2.54</td>\n",
       "    </tr>\n",
       "    <tr>\n",
       "      <th>...</th>\n",
       "      <td>...</td>\n",
       "      <td>...</td>\n",
       "      <td>...</td>\n",
       "      <td>...</td>\n",
       "      <td>...</td>\n",
       "      <td>...</td>\n",
       "      <td>...</td>\n",
       "      <td>...</td>\n",
       "      <td>...</td>\n",
       "      <td>...</td>\n",
       "      <td>...</td>\n",
       "    </tr>\n",
       "    <tr>\n",
       "      <th>975</th>\n",
       "      <td>User 976</td>\n",
       "      <td>0.74</td>\n",
       "      <td>1.12</td>\n",
       "      <td>0.30</td>\n",
       "      <td>0.53</td>\n",
       "      <td>0.88</td>\n",
       "      <td>1.38</td>\n",
       "      <td>3.17</td>\n",
       "      <td>2.78</td>\n",
       "      <td>0.99</td>\n",
       "      <td>3.20</td>\n",
       "    </tr>\n",
       "    <tr>\n",
       "      <th>976</th>\n",
       "      <td>User 977</td>\n",
       "      <td>1.25</td>\n",
       "      <td>0.92</td>\n",
       "      <td>1.12</td>\n",
       "      <td>0.38</td>\n",
       "      <td>0.78</td>\n",
       "      <td>1.68</td>\n",
       "      <td>3.18</td>\n",
       "      <td>2.79</td>\n",
       "      <td>1.34</td>\n",
       "      <td>2.80</td>\n",
       "    </tr>\n",
       "    <tr>\n",
       "      <th>977</th>\n",
       "      <td>User 978</td>\n",
       "      <td>0.61</td>\n",
       "      <td>1.32</td>\n",
       "      <td>0.67</td>\n",
       "      <td>0.43</td>\n",
       "      <td>1.30</td>\n",
       "      <td>1.78</td>\n",
       "      <td>3.17</td>\n",
       "      <td>2.81</td>\n",
       "      <td>1.34</td>\n",
       "      <td>3.02</td>\n",
       "    </tr>\n",
       "    <tr>\n",
       "      <th>978</th>\n",
       "      <td>User 979</td>\n",
       "      <td>0.93</td>\n",
       "      <td>0.20</td>\n",
       "      <td>0.13</td>\n",
       "      <td>0.43</td>\n",
       "      <td>0.30</td>\n",
       "      <td>0.40</td>\n",
       "      <td>3.18</td>\n",
       "      <td>2.98</td>\n",
       "      <td>1.12</td>\n",
       "      <td>2.46</td>\n",
       "    </tr>\n",
       "    <tr>\n",
       "      <th>979</th>\n",
       "      <td>User 980</td>\n",
       "      <td>0.93</td>\n",
       "      <td>0.56</td>\n",
       "      <td>1.13</td>\n",
       "      <td>0.51</td>\n",
       "      <td>1.34</td>\n",
       "      <td>2.36</td>\n",
       "      <td>3.18</td>\n",
       "      <td>2.87</td>\n",
       "      <td>1.34</td>\n",
       "      <td>2.40</td>\n",
       "    </tr>\n",
       "  </tbody>\n",
       "</table>\n",
       "<p>980 rows × 11 columns</p>\n",
       "</div>"
      ],
      "text/plain": [
       "      User ID  art_galleries  dance_clubs  juice_bars  restaurants  museums  \\\n",
       "0      User 1           0.93         1.80        2.29         0.62     0.80   \n",
       "1      User 2           1.02         2.20        2.66         0.64     1.42   \n",
       "2      User 3           1.22         0.80        0.54         0.53     0.24   \n",
       "3      User 4           0.45         1.80        0.29         0.57     0.46   \n",
       "4      User 5           0.51         1.20        1.18         0.57     1.54   \n",
       "..        ...            ...          ...         ...          ...      ...   \n",
       "975  User 976           0.74         1.12        0.30         0.53     0.88   \n",
       "976  User 977           1.25         0.92        1.12         0.38     0.78   \n",
       "977  User 978           0.61         1.32        0.67         0.43     1.30   \n",
       "978  User 979           0.93         0.20        0.13         0.43     0.30   \n",
       "979  User 980           0.93         0.56        1.13         0.51     1.34   \n",
       "\n",
       "     resorts  parks_spots  beaches  theaters  religious_institutions  \n",
       "0       2.42         3.19     2.79      1.82                    2.42  \n",
       "1       3.18         3.21     2.63      1.86                    2.32  \n",
       "2       1.54         3.18     2.80      1.31                    2.50  \n",
       "3       1.52         3.18     2.96      1.57                    2.86  \n",
       "4       2.02         3.18     2.78      1.18                    2.54  \n",
       "..       ...          ...      ...       ...                     ...  \n",
       "975     1.38         3.17     2.78      0.99                    3.20  \n",
       "976     1.68         3.18     2.79      1.34                    2.80  \n",
       "977     1.78         3.17     2.81      1.34                    3.02  \n",
       "978     0.40         3.18     2.98      1.12                    2.46  \n",
       "979     2.36         3.18     2.87      1.34                    2.40  \n",
       "\n",
       "[980 rows x 11 columns]"
      ]
     },
     "execution_count": 286,
     "metadata": {},
     "output_type": "execute_result"
    }
   ],
   "source": [
    "Travel_Reviews"
   ]
  },
  {
   "cell_type": "code",
   "execution_count": 287,
   "metadata": {},
   "outputs": [],
   "source": [
    "Travel_Reviews = Travel_Reviews[~(Travel_Reviews['theaters'] <= 2)]  \n",
    "# Travel_Reviews = Travel_Reviews.sort_values('theaters')"
   ]
  },
  {
   "cell_type": "code",
   "execution_count": 288,
   "metadata": {},
   "outputs": [],
   "source": [
    "\n",
    "\n",
    "import matplotlib.pyplot as plt\n",
    "import numpy as np\n",
    "\n",
    "from sklearn import datasets, linear_model\n",
    "from sklearn.metrics import mean_squared_error, r2_score\n",
    "\n",
    "revs_X = np.array([float(i) for i in Travel_Reviews['theaters']])\n",
    "revs_y = np.array([float(i) for i in Travel_Reviews['dance_clubs']])\n",
    "revs_X = np.reshape(revs_X, (-1, 1))\n"
   ]
  },
  {
   "cell_type": "code",
   "execution_count": 289,
   "metadata": {},
   "outputs": [
    {
     "data": {
      "text/plain": [
       "array([1.36, 1.64, 1.68, 1.16, 2.  , 1.08, 1.12, 1.52, 0.88, 1.6 , 0.56,\n",
       "       2.16, 1.8 , 1.64, 0.96, 1.04, 1.4 , 1.16, 1.08, 1.04, 1.16, 1.44,\n",
       "       1.04, 1.56, 1.  , 1.6 , 1.84, 1.56, 1.76, 1.44, 1.72, 1.4 , 1.24,\n",
       "       1.96, 1.48, 1.76, 0.76, 1.  , 1.6 , 1.44, 1.52, 1.88, 0.96, 1.24,\n",
       "       2.8 , 1.72, 1.24, 1.  , 1.08, 0.92, 2.96, 2.2 , 1.28, 1.04, 1.88,\n",
       "       0.  , 1.04, 1.  , 1.04, 0.88, 0.88, 1.  , 1.76, 0.8 , 0.68, 1.28,\n",
       "       1.56, 1.32, 1.32, 0.96, 1.44, 1.36, 2.96, 2.24, 0.8 , 1.44, 1.24,\n",
       "       1.6 , 1.96, 1.16, 1.84, 2.96, 1.28, 1.96, 1.64, 1.36, 0.76, 1.4 ,\n",
       "       1.92, 1.44, 1.52, 0.72, 0.84, 1.16, 1.56, 1.36, 1.24, 1.68, 1.04,\n",
       "       1.88, 1.64, 1.04, 1.76, 0.96, 1.04, 1.28, 0.72, 1.36, 1.24, 1.12,\n",
       "       1.48, 1.4 , 1.24])"
      ]
     },
     "execution_count": 289,
     "metadata": {},
     "output_type": "execute_result"
    }
   ],
   "source": [
    "revs_y"
   ]
  },
  {
   "cell_type": "code",
   "execution_count": 290,
   "metadata": {},
   "outputs": [
    {
     "name": "stdout",
     "output_type": "stream",
     "text": [
      "Coefficients: \n",
      " [0.57417269]\n",
      "Mean squared error: 0.19\n",
      "Coefficient of determination: -0.49\n"
     ]
    },
    {
     "data": {
      "image/png": "[encoded data removed]",
      "text/plain": [
       "<Figure size 640x480 with 1 Axes>"
      ]
     },
     "metadata": {},
     "output_type": "display_data"
    }
   ],
   "source": [
    "\n",
    "# revs_X = revs_X[:, np.newaxis, 2]\n",
    "\n",
    "# Use only one feature\n",
    "\n",
    "# Split the data into training/testing sets\n",
    "revs_X_train = revs_X[:60]\n",
    "revs_X_test = revs_X[60:68]\n",
    "revs_X_test\n",
    "# Split the targets into training/testing sets\n",
    "revs_y_train = revs_y[:60]\n",
    "revs_y_test = revs_y[60:68]\n",
    "\n",
    "# Create linear regression object\n",
    "regr = linear_model.LinearRegression()\n",
    "\n",
    "# Train the model using the training sets\n",
    "regr.fit(revs_X_train, revs_y_train)\n",
    "\n",
    "# Make predictions using the testing set\n",
    "revs_y_pred = regr.predict(revs_X_test)\n",
    "\n",
    "# The coefficients\n",
    "print(\"Coefficients: \\n\", regr.coef_)\n",
    "# The mean squared error\n",
    "print(\"Mean squared error: %.2f\" % mean_squared_error(revs_y_test, revs_y_pred))\n",
    "# The coefficient of determination: 1 is perfect prediction\n",
    "print(\"Coefficient of determination: %.2f\" % r2_score(revs_y_test, revs_y_pred))\n",
    "\n",
    "# Plot outputs\n",
    "plt.scatter(revs_X_test, revs_y_test, color=\"black\")\n",
    "plt.plot(revs_X_test, revs_y_pred, color=\"blue\", linewidth=3)\n",
    "# plt.xlim((-10, 30))                                                                                                            \n",
    "# plt.ylim((230, 240))\n",
    "plt.xticks(())\n",
    "plt.yticks(())\n",
    "\n",
    "plt.show()\n"
   ]
  },
  {
   "cell_type": "markdown",
   "metadata": {},
   "source": [
    "##### *** Active power is useful power that does some real work in an AC circuit, whereas reactive power is non-useful power that flows back and forth"
   ]
  },
  {
   "cell_type": "code",
   "execution_count": null,
   "metadata": {},
   "outputs": [],
   "source": []
  },
  {
   "cell_type": "code",
   "execution_count": 314,
   "metadata": {},
   "outputs": [
    {
     "data": {
      "image/png": "[encoded data removed]",
      "text/plain": [
       "<Figure size 1400x500 with 1 Axes>"
      ]
     },
     "metadata": {},
     "output_type": "display_data"
    }
   ],
   "source": [
    "import matplotlib.pyplot as plt\n",
    "import numpy as np\n",
    "\n",
    "from sklearn.linear_model import LinearRegression\n",
    "from sklearn.model_selection import cross_val_score\n",
    "from sklearn.pipeline import Pipeline\n",
    "from sklearn.preprocessing import PolynomialFeatures\n",
    "\n",
    "def true_fun(X):\n",
    "    return X -1\n",
    "\n",
    "np.random.seed(0)\n",
    "\n",
    "n_samples = 20\n",
    "degrees = [2]\n",
    "\n",
    "# X = np.sort(np.random.rand(n_samples))\n",
    "# y = true_fun(revs_X) + np.random.randn(n_samples) * 0.1\n",
    "\n",
    "plt.figure(figsize=(14, 5))\n",
    "for i in range(len(degrees)):\n",
    "    ax = plt.subplot(1, len(degrees), i + 1)\n",
    "    plt.setp(ax, xticks=(), yticks=())\n",
    "\n",
    "    polynomial_features = PolynomialFeatures(degree=degrees[i], include_bias=False)\n",
    "    linear_regression = LinearRegression()\n",
    "    pipeline = Pipeline(\n",
    "        [\n",
    "            (\"polynomial_features\", polynomial_features),\n",
    "            (\"linear_regression\", linear_regression),\n",
    "        ]\n",
    "    )\n",
    "    pipeline.fit(revs_X_train, revs_y_train)\n",
    "\n",
    "    # Evaluate the models using crossvalidation\n",
    "    scores = cross_val_score(\n",
    "        pipeline, revs_X_train, revs_y_train, scoring=\"neg_mean_squared_error\", cv=10\n",
    "    )\n",
    "\n",
    "    plt.plot(revs_X_test, pipeline.predict(revs_X_test), label=\"Model\")\n",
    "    plt.plot(revs_X_test, true_fun(revs_X_test), label=\"True function\")\n",
    "    plt.scatter(revs_X_train, revs_y_train, edgecolor=\"b\", s=5, label=\"Samples\")\n",
    "    plt.xlabel(\"x\")\n",
    "    plt.ylabel(\"y\")\n",
    "    # plt.xlim((-10, 30))                                                                                                            \n",
    "    # plt.ylim((230, 250))    \n",
    "    plt.legend(loc=\"best\")\n",
    "    plt.title(\n",
    "        \"Degree {}\\nMSE = {:.2e}(+/- {:.2e})\".format(\n",
    "            degrees[i], -scores.mean(), scores.std()\n",
    "        )\n",
    "    )           \n",
    "plt.show()"
   ]
  },
  {
   "cell_type": "code",
   "execution_count": 312,
   "metadata": {},
   "outputs": [
    {
     "name": "stdout",
     "output_type": "stream",
     "text": [
      "[1.44] \n",
      "       User ID  art_galleries  dance_clubs  juice_bars  restaurants  museums  \\\n",
      "483  User 484           0.58         2.96         1.9         0.53     1.44   \n",
      "\n",
      "     resorts  parks_spots  beaches  theaters  religious_institutions  \n",
      "483     2.24         3.19     3.18      2.18                     2.7  \n"
     ]
    }
   ],
   "source": [
    "\n",
    "rand_cols = Travel_Reviews.sample(1)\n",
    "rand_theater_col = rand_cols['museums'].to_list()\n",
    "print(f'{rand_theater_col} \\n {rand_cols}')\n",
    "\n"
   ]
  },
  {
   "cell_type": "code",
   "execution_count": 313,
   "metadata": {},
   "outputs": [
    {
     "name": "stdout",
     "output_type": "stream",
     "text": [
      "[1.68212907]\n"
     ]
    }
   ],
   "source": [
    "print(linear_regression.predict(poly.fit_transform([rand_theater_col]))\n",
    ")"
   ]
  },
  {
   "cell_type": "code",
   "execution_count": null,
   "metadata": {},
   "outputs": [],
   "source": []
  },
  {
   "cell_type": "code",
   "execution_count": null,
   "metadata": {},
   "outputs": [],
   "source": []
  },
  {
   "cell_type": "code",
   "execution_count": null,
   "metadata": {},
   "outputs": [
    {
     "data": {
      "text/plain": [
       "array([[ 1.    ,  2.24  ,  5.0176],\n",
       "       [ 1.    ,  2.3   ,  5.29  ],\n",
       "       [ 1.    ,  2.02  ,  4.0804],\n",
       "       [ 1.    ,  2.02  ,  4.0804],\n",
       "       [ 1.    ,  2.05  ,  4.2025],\n",
       "       [ 1.    ,  2.18  ,  4.7524],\n",
       "       [ 1.    ,  2.08  ,  4.3264],\n",
       "       [ 1.    ,  2.05  ,  4.2025],\n",
       "       [ 1.    ,  2.14  ,  4.5796],\n",
       "       [ 1.    ,  3.04  ,  9.2416],\n",
       "       [ 1.    ,  2.27  ,  5.1529],\n",
       "       [ 1.    ,  2.24  ,  5.0176],\n",
       "       [ 1.    ,  2.46  ,  6.0516],\n",
       "       [ 1.    ,  2.5   ,  6.25  ],\n",
       "       [ 1.    ,  2.14  ,  4.5796],\n",
       "       [ 1.    ,  2.37  ,  5.6169],\n",
       "       [ 1.    ,  2.21  ,  4.8841],\n",
       "       [ 1.    ,  2.08  ,  4.3264],\n",
       "       [ 1.    ,  2.21  ,  4.8841],\n",
       "       [ 1.    ,  2.18  ,  4.7524],\n",
       "       [ 1.    ,  2.18  ,  4.7524],\n",
       "       [ 1.    ,  2.18  ,  4.7524],\n",
       "       [ 1.    ,  2.18  ,  4.7524],\n",
       "       [ 1.    ,  2.05  ,  4.2025],\n",
       "       [ 1.    ,  2.11  ,  4.4521],\n",
       "       [ 1.    ,  2.69  ,  7.2361],\n",
       "       [ 1.    ,  2.5   ,  6.25  ],\n",
       "       [ 1.    ,  2.4   ,  5.76  ],\n",
       "       [ 1.    ,  2.43  ,  5.9049],\n",
       "       [ 1.    ,  2.05  ,  4.2025],\n",
       "       [ 1.    ,  2.46  ,  6.0516],\n",
       "       [ 1.    ,  2.18  ,  4.7524],\n",
       "       [ 1.    ,  2.18  ,  4.7524],\n",
       "       [ 1.    ,  3.14  ,  9.8596],\n",
       "       [ 1.    ,  2.72  ,  7.3984],\n",
       "       [ 1.    ,  2.4   ,  5.76  ],\n",
       "       [ 1.    ,  2.02  ,  4.0804],\n",
       "       [ 1.    ,  2.27  ,  5.1529],\n",
       "       [ 1.    ,  2.5   ,  6.25  ],\n",
       "       [ 1.    ,  3.17  , 10.0489],\n",
       "       [ 1.    ,  2.62  ,  6.8644],\n",
       "       [ 1.    ,  2.4   ,  5.76  ],\n",
       "       [ 1.    ,  2.3   ,  5.29  ],\n",
       "       [ 1.    ,  2.05  ,  4.2025],\n",
       "       [ 1.    ,  2.34  ,  5.4756],\n",
       "       [ 1.    ,  2.53  ,  6.4009],\n",
       "       [ 1.    ,  2.05  ,  4.2025],\n",
       "       [ 1.    ,  2.11  ,  4.4521],\n",
       "       [ 1.    ,  2.43  ,  5.9049],\n",
       "       [ 1.    ,  2.08  ,  4.3264],\n",
       "       [ 1.    ,  2.18  ,  4.7524],\n",
       "       [ 1.    ,  2.21  ,  4.8841],\n",
       "       [ 1.    ,  2.18  ,  4.7524],\n",
       "       [ 1.    ,  2.05  ,  4.2025],\n",
       "       [ 1.    ,  2.11  ,  4.4521],\n",
       "       [ 1.    ,  2.14  ,  4.5796],\n",
       "       [ 1.    ,  2.21  ,  4.8841],\n",
       "       [ 1.    ,  2.02  ,  4.0804],\n",
       "       [ 1.    ,  2.18  ,  4.7524],\n",
       "       [ 1.    ,  2.05  ,  4.2025]])"
      ]
     },
     "execution_count": 128,
     "metadata": {},
     "output_type": "execute_result"
    }
   ],
   "source": [
    "from sklearn.linear_model import LinearRegression\n",
    "from sklearn.preprocessing import PolynomialFeatures \n",
    "poly = PolynomialFeatures(degree = 2) \n",
    "X_poly = poly.fit_transform(revs_X_train) \n",
    "X_poly"
   ]
  },
  {
   "cell_type": "code",
   "execution_count": null,
   "metadata": {},
   "outputs": [
    {
     "data": {
      "text/plain": [
       "LinearRegression()"
      ]
     },
     "execution_count": 129,
     "metadata": {},
     "output_type": "execute_result"
    }
   ],
   "source": [
    "polyreg = LinearRegression() \n",
    "polyreg.fit(X_poly, revs_y_train) "
   ]
  },
  {
   "cell_type": "code",
   "execution_count": null,
   "metadata": {},
   "outputs": [
    {
     "name": "stdout",
     "output_type": "stream",
     "text": [
      "R2 score for Polynomial Regression: 0.11861133523173795\n"
     ]
    }
   ],
   "source": [
    "y_pred_pr = polyreg.predict(poly.fit_transform(revs_X_train))\n",
    "from sklearn.metrics import r2_score\n",
    "print('R2 score for Polynomial Regression:',r2_score(revs_y_train,y_pred_pr))"
   ]
  },
  {
   "cell_type": "code",
   "execution_count": null,
   "metadata": {},
   "outputs": [
    {
     "data": {
      "text/html": [
       "<div>\n",
       "<style scoped>\n",
       "    .dataframe tbody tr th:only-of-type {\n",
       "        vertical-align: middle;\n",
       "    }\n",
       "\n",
       "    .dataframe tbody tr th {\n",
       "        vertical-align: top;\n",
       "    }\n",
       "\n",
       "    .dataframe thead th {\n",
       "        text-align: right;\n",
       "    }\n",
       "</style>\n",
       "<table border=\"1\" class=\"dataframe\">\n",
       "  <thead>\n",
       "    <tr style=\"text-align: right;\">\n",
       "      <th></th>\n",
       "      <th>User ID</th>\n",
       "      <th>art_galleries</th>\n",
       "      <th>dance_clubs</th>\n",
       "      <th>juice_bars</th>\n",
       "      <th>restaurants</th>\n",
       "      <th>museums</th>\n",
       "      <th>resorts</th>\n",
       "      <th>parks_spots</th>\n",
       "      <th>beaches</th>\n",
       "      <th>theaters</th>\n",
       "      <th>religious_institutions</th>\n",
       "    </tr>\n",
       "  </thead>\n",
       "  <tbody>\n",
       "    <tr>\n",
       "      <th>134</th>\n",
       "      <td>User 135</td>\n",
       "      <td>0.51</td>\n",
       "      <td>1.64</td>\n",
       "      <td>0.27</td>\n",
       "      <td>0.3</td>\n",
       "      <td>0.78</td>\n",
       "      <td>1.86</td>\n",
       "      <td>3.17</td>\n",
       "      <td>2.69</td>\n",
       "      <td>2.5</td>\n",
       "      <td>3.34</td>\n",
       "    </tr>\n",
       "  </tbody>\n",
       "</table>\n",
       "</div>"
      ],
      "text/plain": [
       "      User ID  art_galleries  dance_clubs  juice_bars  restaurants  museums  \\\n",
       "134  User 135           0.51         1.64        0.27          0.3     0.78   \n",
       "\n",
       "     resorts  parks_spots  beaches  theaters  religious_institutions  \n",
       "134     1.86         3.17     2.69       2.5                    3.34  "
      ]
     },
     "execution_count": 137,
     "metadata": {},
     "output_type": "execute_result"
    }
   ],
   "source": [
    "Travel_Reviews.sample(1)"
   ]
  },
  {
   "cell_type": "code",
   "execution_count": null,
   "metadata": {},
   "outputs": [
    {
     "data": {
      "text/plain": [
       "array([1.60871018])"
      ]
     },
     "execution_count": 138,
     "metadata": {},
     "output_type": "execute_result"
    }
   ],
   "source": [
    "polyreg.predict(poly.fit_transform([[2.5]]))"
   ]
  },
  {
   "cell_type": "code",
   "execution_count": null,
   "metadata": {},
   "outputs": [
    {
     "data": {
      "text/plain": [
       "array([0.5, 0.5])"
      ]
     },
     "execution_count": 109,
     "metadata": {},
     "output_type": "execute_result"
    }
   ],
   "source": [
    "from sklearn import linear_model\n",
    "reg = linear_model.LinearRegression()\n",
    "reg.fit([[0, 0], [1, 1], [2, 2]], [0, 1, 2])\n",
    "reg.coef_"
   ]
  }
 ],
 "metadata": {
  "kernelspec": {
   "display_name": "Python 3",
   "language": "python",
   "name": "python3"
  },
  "language_info": {
   "codemirror_mode": {
    "name": "ipython",
    "version": 3
   },
   "file_extension": ".py",
   "mimetype": "text/x-python",
   "name": "python",
   "nbconvert_exporter": "python",
   "pygments_lexer": "ipython3",
   "version": "3.7.16"
  },
  "orig_nbformat": 4
 },
 "nbformat": 4,
 "nbformat_minor": 2
}
