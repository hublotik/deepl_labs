{
 "cells": [
  {
   "cell_type": "markdown",
   "metadata": {},
   "source": [
    "## Individual household electric power consumption\n"
   ]
  },
  {
   "cell_type": "markdown",
   "metadata": {},
   "source": [
    "### Additional Information\n",
    "\n",
    "###### 1.date: Date in format dd/mm/yyyy\n",
    "###### 2.time: time in format hh:mm:ss\n",
    "###### 3.global_active_power: household global minute-averaged active power (in kilowatt)\n",
    "###### 4.global_reactive_power: household global minute-averaged reactive power (in kilowatt)\n",
    "###### 5.voltage: minute-averaged voltage (in volt)\n",
    "###### 6.global_intensity: household global minute-averaged current intensity (in ampere)\n",
    "###### 7.sub_metering_1: energy sub-metering No. 1 (in watt-hour of active energy). It corresponds to the kitchen, containing mainly a dishwasher, an oven and a microwave (hot plates are not electric but gas powered).\n",
    "###### 8.sub_metering_2: energy sub-metering No. 2 (in watt-hour of active energy). It corresponds to the laundry room, containing a washing-machine, a tumble-drier, a refrigerator and a light.\n",
    "###### 9.sub_metering_3: energy sub-metering No. 3 (in watt-hour of active energy). It corresponds to an electric water-heater and an air-conditioner."
   ]
  },
  {
   "cell_type": "code",
   "execution_count": 421,
   "metadata": {},
   "outputs": [
    {
     "name": "stderr",
     "output_type": "stream",
     "text": [
      "/home/petr/.local/lib/python3.7/site-packages/IPython/core/interactiveshell.py:3553: DtypeWarning: Columns (2,3,4,5,6,7) have mixed types.Specify dtype option on import or set low_memory=False.\n",
      "  exec(code_obj, self.user_global_ns, self.user_ns)\n"
     ]
    }
   ],
   "source": [
    "import pandas as pd \n",
    "import numpy as np\n",
    "HEP_dataset = pd.read_csv('/home/petr/Desktop/deep_ex/household_power_consumption.txt'\n",
    "            , delimiter=';')\n"
   ]
  },
  {
   "cell_type": "code",
   "execution_count": 422,
   "metadata": {},
   "outputs": [],
   "source": [
    "HEP_dataset = HEP_dataset[:10000]"
   ]
  },
  {
   "cell_type": "code",
   "execution_count": 423,
   "metadata": {},
   "outputs": [
    {
     "data": {
      "text/html": [
       "<div>\n",
       "<style scoped>\n",
       "    .dataframe tbody tr th:only-of-type {\n",
       "        vertical-align: middle;\n",
       "    }\n",
       "\n",
       "    .dataframe tbody tr th {\n",
       "        vertical-align: top;\n",
       "    }\n",
       "\n",
       "    .dataframe thead th {\n",
       "        text-align: right;\n",
       "    }\n",
       "</style>\n",
       "<table border=\"1\" class=\"dataframe\">\n",
       "  <thead>\n",
       "    <tr style=\"text-align: right;\">\n",
       "      <th></th>\n",
       "      <th>Date</th>\n",
       "      <th>Time</th>\n",
       "      <th>Global_active_power</th>\n",
       "      <th>Global_reactive_power</th>\n",
       "      <th>Voltage</th>\n",
       "      <th>Global_intensity</th>\n",
       "      <th>Sub_metering_1</th>\n",
       "      <th>Sub_metering_2</th>\n",
       "      <th>Sub_metering_3</th>\n",
       "    </tr>\n",
       "  </thead>\n",
       "  <tbody>\n",
       "    <tr>\n",
       "      <th>0</th>\n",
       "      <td>16/12/2006</td>\n",
       "      <td>17:24:00</td>\n",
       "      <td>4.216</td>\n",
       "      <td>0.418</td>\n",
       "      <td>234.840</td>\n",
       "      <td>18.400</td>\n",
       "      <td>0.000</td>\n",
       "      <td>1.000</td>\n",
       "      <td>17.0</td>\n",
       "    </tr>\n",
       "    <tr>\n",
       "      <th>1</th>\n",
       "      <td>16/12/2006</td>\n",
       "      <td>17:25:00</td>\n",
       "      <td>5.360</td>\n",
       "      <td>0.436</td>\n",
       "      <td>233.630</td>\n",
       "      <td>23.000</td>\n",
       "      <td>0.000</td>\n",
       "      <td>1.000</td>\n",
       "      <td>16.0</td>\n",
       "    </tr>\n",
       "    <tr>\n",
       "      <th>2</th>\n",
       "      <td>16/12/2006</td>\n",
       "      <td>17:26:00</td>\n",
       "      <td>5.374</td>\n",
       "      <td>0.498</td>\n",
       "      <td>233.290</td>\n",
       "      <td>23.000</td>\n",
       "      <td>0.000</td>\n",
       "      <td>2.000</td>\n",
       "      <td>17.0</td>\n",
       "    </tr>\n",
       "    <tr>\n",
       "      <th>3</th>\n",
       "      <td>16/12/2006</td>\n",
       "      <td>17:27:00</td>\n",
       "      <td>5.388</td>\n",
       "      <td>0.502</td>\n",
       "      <td>233.740</td>\n",
       "      <td>23.000</td>\n",
       "      <td>0.000</td>\n",
       "      <td>1.000</td>\n",
       "      <td>17.0</td>\n",
       "    </tr>\n",
       "    <tr>\n",
       "      <th>4</th>\n",
       "      <td>16/12/2006</td>\n",
       "      <td>17:28:00</td>\n",
       "      <td>3.666</td>\n",
       "      <td>0.528</td>\n",
       "      <td>235.680</td>\n",
       "      <td>15.800</td>\n",
       "      <td>0.000</td>\n",
       "      <td>1.000</td>\n",
       "      <td>17.0</td>\n",
       "    </tr>\n",
       "    <tr>\n",
       "      <th>...</th>\n",
       "      <td>...</td>\n",
       "      <td>...</td>\n",
       "      <td>...</td>\n",
       "      <td>...</td>\n",
       "      <td>...</td>\n",
       "      <td>...</td>\n",
       "      <td>...</td>\n",
       "      <td>...</td>\n",
       "      <td>...</td>\n",
       "    </tr>\n",
       "    <tr>\n",
       "      <th>9995</th>\n",
       "      <td>23/12/2006</td>\n",
       "      <td>15:59:00</td>\n",
       "      <td>4.958</td>\n",
       "      <td>0.664</td>\n",
       "      <td>241.340</td>\n",
       "      <td>20.600</td>\n",
       "      <td>0.000</td>\n",
       "      <td>0.000</td>\n",
       "      <td>17.0</td>\n",
       "    </tr>\n",
       "    <tr>\n",
       "      <th>9996</th>\n",
       "      <td>23/12/2006</td>\n",
       "      <td>16:00:00</td>\n",
       "      <td>4.954</td>\n",
       "      <td>0.666</td>\n",
       "      <td>241.500</td>\n",
       "      <td>20.600</td>\n",
       "      <td>0.000</td>\n",
       "      <td>0.000</td>\n",
       "      <td>18.0</td>\n",
       "    </tr>\n",
       "    <tr>\n",
       "      <th>9997</th>\n",
       "      <td>23/12/2006</td>\n",
       "      <td>16:01:00</td>\n",
       "      <td>4.932</td>\n",
       "      <td>0.658</td>\n",
       "      <td>240.800</td>\n",
       "      <td>20.600</td>\n",
       "      <td>0.000</td>\n",
       "      <td>0.000</td>\n",
       "      <td>18.0</td>\n",
       "    </tr>\n",
       "    <tr>\n",
       "      <th>9998</th>\n",
       "      <td>23/12/2006</td>\n",
       "      <td>16:02:00</td>\n",
       "      <td>4.926</td>\n",
       "      <td>0.660</td>\n",
       "      <td>240.770</td>\n",
       "      <td>20.600</td>\n",
       "      <td>0.000</td>\n",
       "      <td>0.000</td>\n",
       "      <td>18.0</td>\n",
       "    </tr>\n",
       "    <tr>\n",
       "      <th>9999</th>\n",
       "      <td>23/12/2006</td>\n",
       "      <td>16:03:00</td>\n",
       "      <td>4.658</td>\n",
       "      <td>0.660</td>\n",
       "      <td>240.810</td>\n",
       "      <td>19.600</td>\n",
       "      <td>0.000</td>\n",
       "      <td>0.000</td>\n",
       "      <td>17.0</td>\n",
       "    </tr>\n",
       "  </tbody>\n",
       "</table>\n",
       "<p>10000 rows × 9 columns</p>\n",
       "</div>"
      ],
      "text/plain": [
       "            Date      Time Global_active_power Global_reactive_power  Voltage  \\\n",
       "0     16/12/2006  17:24:00               4.216                 0.418  234.840   \n",
       "1     16/12/2006  17:25:00               5.360                 0.436  233.630   \n",
       "2     16/12/2006  17:26:00               5.374                 0.498  233.290   \n",
       "3     16/12/2006  17:27:00               5.388                 0.502  233.740   \n",
       "4     16/12/2006  17:28:00               3.666                 0.528  235.680   \n",
       "...          ...       ...                 ...                   ...      ...   \n",
       "9995  23/12/2006  15:59:00               4.958                 0.664  241.340   \n",
       "9996  23/12/2006  16:00:00               4.954                 0.666  241.500   \n",
       "9997  23/12/2006  16:01:00               4.932                 0.658  240.800   \n",
       "9998  23/12/2006  16:02:00               4.926                 0.660  240.770   \n",
       "9999  23/12/2006  16:03:00               4.658                 0.660  240.810   \n",
       "\n",
       "     Global_intensity Sub_metering_1 Sub_metering_2  Sub_metering_3  \n",
       "0              18.400          0.000          1.000            17.0  \n",
       "1              23.000          0.000          1.000            16.0  \n",
       "2              23.000          0.000          2.000            17.0  \n",
       "3              23.000          0.000          1.000            17.0  \n",
       "4              15.800          0.000          1.000            17.0  \n",
       "...               ...            ...            ...             ...  \n",
       "9995           20.600          0.000          0.000            17.0  \n",
       "9996           20.600          0.000          0.000            18.0  \n",
       "9997           20.600          0.000          0.000            18.0  \n",
       "9998           20.600          0.000          0.000            18.0  \n",
       "9999           19.600          0.000          0.000            17.0  \n",
       "\n",
       "[10000 rows x 9 columns]"
      ]
     },
     "execution_count": 423,
     "metadata": {},
     "output_type": "execute_result"
    }
   ],
   "source": [
    "HEP_dataset"
   ]
  },
  {
   "cell_type": "code",
   "execution_count": 424,
   "metadata": {},
   "outputs": [],
   "source": [
    "import datetime"
   ]
  },
  {
   "cell_type": "code",
   "execution_count": 425,
   "metadata": {},
   "outputs": [],
   "source": [
    "# HEP_dataset1 = [datetime.time(hour= int(v.split(':')[0]), minute=int(v.split(':')[1]), second=int(v.split(':')[2])) for v in HEP_dataset['Time']]"
   ]
  },
  {
   "cell_type": "code",
   "execution_count": null,
   "metadata": {},
   "outputs": [],
   "source": []
  },
  {
   "cell_type": "code",
   "execution_count": 426,
   "metadata": {},
   "outputs": [],
   "source": [
    "HEP_dataset = HEP_dataset[pd.to_numeric(HEP_dataset['Global_reactive_power'], errors='coerce').notnull()]\n",
    "# HEP_dataset1 = (HEP_dataset['Date'] + ' ' + HEP_dataset['Time']).astype('datetime64[ns]')"
   ]
  },
  {
   "cell_type": "code",
   "execution_count": 427,
   "metadata": {},
   "outputs": [],
   "source": [
    "HEP_time = [float(v.split(\":\")[0] + '.' + v.split(\":\")[1]) for v in HEP_dataset['Time']]"
   ]
  },
  {
   "cell_type": "code",
   "execution_count": 428,
   "metadata": {},
   "outputs": [
    {
     "data": {
      "text/plain": [
       "list"
      ]
     },
     "execution_count": 428,
     "metadata": {},
     "output_type": "execute_result"
    }
   ],
   "source": [
    "type(HEP_time)"
   ]
  },
  {
   "cell_type": "code",
   "execution_count": 429,
   "metadata": {},
   "outputs": [],
   "source": [
    "# HEP_voltage = HEP_dataset['Voltage'].to_list()\n",
    "\n",
    "# HEP_dataset = pd.DataFrame({'voltage':HEP_voltage,\n",
    "#               'time':HEP_time})\n"
   ]
  },
  {
   "cell_type": "code",
   "execution_count": 430,
   "metadata": {},
   "outputs": [],
   "source": [
    "# HEP_dataset = HEP_dataset.sort_values('time')"
   ]
  },
  {
   "cell_type": "code",
   "execution_count": 431,
   "metadata": {},
   "outputs": [],
   "source": [
    "# Code source: Jaques Grobler\n",
    "# License: BSD 3 clause\n",
    "\n",
    "import matplotlib.pyplot as plt\n",
    "import numpy as np\n",
    "\n",
    "from sklearn import datasets, linear_model\n",
    "from sklearn.metrics import mean_squared_error, r2_score\n",
    "\n",
    "HEP_y = np.array([float(i) for i in HEP_dataset['Voltage']])\n",
    "HEP_X = np.array([float(i) for i in HEP_dataset1])\n",
    "HEP_X = np.reshape(HEP_X, (-1, 1))\n"
   ]
  },
  {
   "cell_type": "code",
   "execution_count": 432,
   "metadata": {},
   "outputs": [
    {
     "data": {
      "text/plain": [
       "array([[17.24],\n",
       "       [17.25],\n",
       "       [17.26],\n",
       "       ...,\n",
       "       [16.01],\n",
       "       [16.02],\n",
       "       [16.03]])"
      ]
     },
     "execution_count": 432,
     "metadata": {},
     "output_type": "execute_result"
    }
   ],
   "source": [
    "HEP_X"
   ]
  },
  {
   "cell_type": "code",
   "execution_count": 433,
   "metadata": {},
   "outputs": [
    {
     "data": {
      "text/plain": [
       "array([234.84, 233.63, 233.29, ..., 240.8 , 240.77, 240.81])"
      ]
     },
     "execution_count": 433,
     "metadata": {},
     "output_type": "execute_result"
    }
   ],
   "source": [
    "HEP_y"
   ]
  },
  {
   "cell_type": "code",
   "execution_count": 458,
   "metadata": {},
   "outputs": [
    {
     "name": "stdout",
     "output_type": "stream",
     "text": [
      "Coefficients: \n",
      " [-0.75287867]\n",
      "Mean squared error: 0.50\n",
      "Coefficient of determination: -0.19\n"
     ]
    },
    {
     "data": {
      "image/png": "[encoded data removed]",
      "text/plain": [
       "<Figure size 640x480 with 1 Axes>"
      ]
     },
     "metadata": {},
     "output_type": "display_data"
    }
   ],
   "source": [
    "\n",
    "# HEP_X = HEP_X[:, np.newaxis, 2]\n",
    "\n",
    "# Use only one feature\n",
    "\n",
    "# Split the data into training/testing sets\n",
    "HEP_X_train = HEP_X[:100]\n",
    "HEP_X_test = HEP_X[100:130]\n",
    "HEP_X_test\n",
    "# Split the targets into training/testing sets\n",
    "HEP_y_train = HEP_y[:100]\n",
    "HEP_y_test = HEP_y[100:130]\n",
    "\n",
    "# Create linear regression object\n",
    "regr = linear_model.LinearRegression()\n",
    "\n",
    "# Train the model using the training sets\n",
    "regr.fit(HEP_X_train, HEP_y_train)\n",
    "\n",
    "# Make predictions using the testing set\n",
    "HEP_y_pred = regr.predict(HEP_X_test)\n",
    "\n",
    "# The coefficients\n",
    "print(\"Coefficients: \\n\", regr.coef_)\n",
    "# The mean squared error\n",
    "print(\"Mean squared error: %.2f\" % mean_squared_error(HEP_y_test, HEP_y_pred))\n",
    "# The coefficient of determination: 1 is perfect prediction\n",
    "print(\"Coefficient of determination: %.2f\" % r2_score(HEP_y_test, HEP_y_pred))\n",
    "\n",
    "# Plot outputs\n",
    "plt.scatter(HEP_X_test, HEP_y_test, color=\"black\")\n",
    "plt.plot(HEP_X_test, HEP_y_pred, color=\"blue\", linewidth=3)\n",
    "# plt.xlim((-10, 30))                                                                                                            \n",
    "plt.ylim((230, 240))\n",
    "plt.xticks(())\n",
    "plt.yticks(())\n",
    "\n",
    "plt.show()\n"
   ]
  },
  {
   "cell_type": "markdown",
   "metadata": {},
   "source": [
    "##### *** Active power is useful power that does some real work in an AC circuit, whereas reactive power is non-useful power that flows back and forth"
   ]
  },
  {
   "cell_type": "code",
   "execution_count": null,
   "metadata": {},
   "outputs": [],
   "source": []
  },
  {
   "cell_type": "code",
   "execution_count": 464,
   "metadata": {},
   "outputs": [
    {
     "data": {
      "image/png": "[encoded data removed]",
      "text/plain": [
       "<Figure size 1400x500 with 3 Axes>"
      ]
     },
     "metadata": {},
     "output_type": "display_data"
    }
   ],
   "source": [
    "import matplotlib.pyplot as plt\n",
    "import numpy as np\n",
    "\n",
    "from sklearn.linear_model import LinearRegression\n",
    "from sklearn.model_selection import cross_val_score\n",
    "from sklearn.pipeline import Pipeline\n",
    "from sklearn.preprocessing import PolynomialFeatures\n",
    "\n",
    "def true_fun(X):\n",
    "    return np.cos(1.5 * np.pi * X)\n",
    "\n",
    "np.random.seed(0)\n",
    "\n",
    "n_samples = 20\n",
    "degrees = [1, 4, 15]\n",
    "\n",
    "# X = np.sort(np.random.rand(n_samples))\n",
    "# y = true_fun(HEP_X) + np.random.randn(n_samples) * 0.1\n",
    "\n",
    "plt.figure(figsize=(14, 5))\n",
    "for i in range(len(degrees)):\n",
    "    ax = plt.subplot(1, len(degrees), i + 1)\n",
    "    plt.setp(ax, xticks=(), yticks=())\n",
    "\n",
    "    polynomial_features = PolynomialFeatures(degree=degrees[i], include_bias=False)\n",
    "    linear_regression = LinearRegression()\n",
    "    pipeline = Pipeline(\n",
    "        [\n",
    "            (\"polynomial_features\", polynomial_features),\n",
    "            (\"linear_regression\", linear_regression),\n",
    "        ]\n",
    "    )\n",
    "    pipeline.fit(HEP_X_train, HEP_y_train)\n",
    "\n",
    "    # Evaluate the models using crossvalidation\n",
    "    scores = cross_val_score(\n",
    "        pipeline, HEP_X_train, HEP_y_train, scoring=\"neg_mean_squared_error\", cv=20\n",
    "    )\n",
    "\n",
    "    plt.plot(HEP_X_test, pipeline.predict(HEP_X_test), label=\"Model\")\n",
    "    plt.plot(HEP_X_test, true_fun(HEP_X_test), label=\"True function\")\n",
    "    plt.scatter(HEP_X_train, HEP_y_train, edgecolor=\"b\", s=5, label=\"Samples\")\n",
    "    plt.xlabel(\"x\")\n",
    "    plt.ylabel(\"y\")\n",
    "    # plt.xlim((-10, 30))                                                                                                            \n",
    "    plt.ylim((230, 240))    \n",
    "    plt.legend(loc=\"best\")\n",
    "    plt.title(\n",
    "        \"Degree {}\\nMSE = {:.2e}(+/- {:.2e})\".format(\n",
    "            degrees[i], -scores.mean(), scores.std()\n",
    "        )\n",
    "    )           \n",
    "plt.show()"
   ]
  },
  {
   "cell_type": "code",
   "execution_count": 436,
   "metadata": {},
   "outputs": [
    {
     "data": {
      "text/plain": [
       "array([0.5, 0.5])"
      ]
     },
     "execution_count": 436,
     "metadata": {},
     "output_type": "execute_result"
    }
   ],
   "source": [
    "from sklearn import linear_model\n",
    "reg = linear_model.LinearRegression()\n",
    "reg.fit([[0, 0], [1, 1], [2, 2]], [0, 1, 2])\n",
    "reg.coef_"
   ]
  },
  {
   "cell_type": "code",
   "execution_count": null,
   "metadata": {},
   "outputs": [],
   "source": []
  }
 ],
 "metadata": {
  "kernelspec": {
   "display_name": "Python 3",
   "language": "python",
   "name": "python3"
  },
  "language_info": {
   "codemirror_mode": {
    "name": "ipython",
    "version": 3
   },
   "file_extension": ".py",
   "mimetype": "text/x-python",
   "name": "python",
   "nbconvert_exporter": "python",
   "pygments_lexer": "ipython3",
   "version": "3.7.16"
  },
  "orig_nbformat": 4
 },
 "nbformat": 4,
 "nbformat_minor": 2
}
